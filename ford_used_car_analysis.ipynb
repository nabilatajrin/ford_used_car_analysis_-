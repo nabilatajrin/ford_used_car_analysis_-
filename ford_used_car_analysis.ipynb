{
 "cells": [
  {
   "cell_type": "markdown",
   "metadata": {},
   "source": [
    "# Ford used car analysis\n",
    "\n",
    "Submitted by:\n",
    "<br>Nabila Tajrin Bristy\n",
    "<br>Dhaka, Bangladesh\n",
    "\n",
    "#### Objective\n",
    "This project performs Linear Regression, predict the 'Price' from the test set, and find the RMSE value from the actual test data and the predicted data of used Ford cars.\n",
    "\n",
    "#### Variables\n",
    "Model, year, price, transmission, mileage, fuelType, mpg, and engineSize.\n",
    "\n",
    "#### Tasks:\n",
    "- Load the data,\n",
    "- Separating the numeric features and target variable,\n",
    "- Split the original dataset into the train set (80%) and the test set (20%), \n",
    "- Perform Linear Regression and Predict the 'Price' from the test set, \n",
    "- Find the RMSE value from the actual test data and the predicted data.\n",
    "\n",
    "\n",
    "#### References:\n",
    "- Dataset source: https://www.kaggle.com/aishwaryamuthukumar/cars-dataset-audi-bmw-ford-hyundai-skoda-vw"
   ]
  },
  {
   "cell_type": "markdown",
   "metadata": {},
   "source": [
    "### Import required libraries and packages"
   ]
  },
  {
   "cell_type": "code",
   "execution_count": 92,
   "metadata": {},
   "outputs": [
    {
     "name": "stdout",
     "output_type": "stream",
     "text": [
      "0.21.3\n"
     ]
    }
   ],
   "source": [
    "from sklearn.linear_model import LinearRegression\n",
    "from sklearn.model_selection import train_test_split\n",
    "from sklearn.metrics import mean_squared_error\n",
    "from numpy import sqrt \n",
    "\n",
    "import pandas as pd\n",
    "import sklearn\n",
    "print(sklearn.__version__)"
   ]
  },
  {
   "cell_type": "markdown",
   "metadata": {},
   "source": [
    "### Load the data"
   ]
  },
  {
   "cell_type": "code",
   "execution_count": 93,
   "metadata": {},
   "outputs": [
    {
     "data": {
      "text/html": [
       "<div>\n",
       "<style scoped>\n",
       "    .dataframe tbody tr th:only-of-type {\n",
       "        vertical-align: middle;\n",
       "    }\n",
       "\n",
       "    .dataframe tbody tr th {\n",
       "        vertical-align: top;\n",
       "    }\n",
       "\n",
       "    .dataframe thead th {\n",
       "        text-align: right;\n",
       "    }\n",
       "</style>\n",
       "<table border=\"1\" class=\"dataframe\">\n",
       "  <thead>\n",
       "    <tr style=\"text-align: right;\">\n",
       "      <th></th>\n",
       "      <th>model</th>\n",
       "      <th>year</th>\n",
       "      <th>price</th>\n",
       "      <th>transmission</th>\n",
       "      <th>mileage</th>\n",
       "      <th>fuelType</th>\n",
       "      <th>mpg</th>\n",
       "      <th>engineSize</th>\n",
       "    </tr>\n",
       "  </thead>\n",
       "  <tbody>\n",
       "    <tr>\n",
       "      <td>0</td>\n",
       "      <td>Fiesta</td>\n",
       "      <td>2017</td>\n",
       "      <td>12000</td>\n",
       "      <td>Automatic</td>\n",
       "      <td>15944</td>\n",
       "      <td>Petrol</td>\n",
       "      <td>57.7</td>\n",
       "      <td>1.0</td>\n",
       "    </tr>\n",
       "    <tr>\n",
       "      <td>1</td>\n",
       "      <td>Focus</td>\n",
       "      <td>2018</td>\n",
       "      <td>14000</td>\n",
       "      <td>Manual</td>\n",
       "      <td>9083</td>\n",
       "      <td>Petrol</td>\n",
       "      <td>57.7</td>\n",
       "      <td>1.0</td>\n",
       "    </tr>\n",
       "    <tr>\n",
       "      <td>2</td>\n",
       "      <td>Focus</td>\n",
       "      <td>2017</td>\n",
       "      <td>13000</td>\n",
       "      <td>Manual</td>\n",
       "      <td>12456</td>\n",
       "      <td>Petrol</td>\n",
       "      <td>57.7</td>\n",
       "      <td>1.0</td>\n",
       "    </tr>\n",
       "    <tr>\n",
       "      <td>3</td>\n",
       "      <td>Fiesta</td>\n",
       "      <td>2019</td>\n",
       "      <td>17500</td>\n",
       "      <td>Manual</td>\n",
       "      <td>10460</td>\n",
       "      <td>Petrol</td>\n",
       "      <td>40.3</td>\n",
       "      <td>1.5</td>\n",
       "    </tr>\n",
       "    <tr>\n",
       "      <td>4</td>\n",
       "      <td>Fiesta</td>\n",
       "      <td>2019</td>\n",
       "      <td>16500</td>\n",
       "      <td>Automatic</td>\n",
       "      <td>1482</td>\n",
       "      <td>Petrol</td>\n",
       "      <td>48.7</td>\n",
       "      <td>1.0</td>\n",
       "    </tr>\n",
       "    <tr>\n",
       "      <td>5</td>\n",
       "      <td>Fiesta</td>\n",
       "      <td>2015</td>\n",
       "      <td>10500</td>\n",
       "      <td>Manual</td>\n",
       "      <td>35432</td>\n",
       "      <td>Petrol</td>\n",
       "      <td>47.9</td>\n",
       "      <td>1.6</td>\n",
       "    </tr>\n",
       "    <tr>\n",
       "      <td>6</td>\n",
       "      <td>Puma</td>\n",
       "      <td>2019</td>\n",
       "      <td>22500</td>\n",
       "      <td>Manual</td>\n",
       "      <td>2029</td>\n",
       "      <td>Petrol</td>\n",
       "      <td>50.4</td>\n",
       "      <td>1.0</td>\n",
       "    </tr>\n",
       "    <tr>\n",
       "      <td>7</td>\n",
       "      <td>Fiesta</td>\n",
       "      <td>2017</td>\n",
       "      <td>9000</td>\n",
       "      <td>Manual</td>\n",
       "      <td>13054</td>\n",
       "      <td>Petrol</td>\n",
       "      <td>54.3</td>\n",
       "      <td>1.2</td>\n",
       "    </tr>\n",
       "    <tr>\n",
       "      <td>8</td>\n",
       "      <td>Kuga</td>\n",
       "      <td>2019</td>\n",
       "      <td>25500</td>\n",
       "      <td>Automatic</td>\n",
       "      <td>6894</td>\n",
       "      <td>Diesel</td>\n",
       "      <td>42.2</td>\n",
       "      <td>2.0</td>\n",
       "    </tr>\n",
       "    <tr>\n",
       "      <td>9</td>\n",
       "      <td>Focus</td>\n",
       "      <td>2018</td>\n",
       "      <td>10000</td>\n",
       "      <td>Manual</td>\n",
       "      <td>48141</td>\n",
       "      <td>Petrol</td>\n",
       "      <td>61.4</td>\n",
       "      <td>1.0</td>\n",
       "    </tr>\n",
       "  </tbody>\n",
       "</table>\n",
       "</div>"
      ],
      "text/plain": [
       "     model  year  price transmission  mileage fuelType   mpg  engineSize\n",
       "0   Fiesta  2017  12000    Automatic    15944   Petrol  57.7         1.0\n",
       "1    Focus  2018  14000       Manual     9083   Petrol  57.7         1.0\n",
       "2    Focus  2017  13000       Manual    12456   Petrol  57.7         1.0\n",
       "3   Fiesta  2019  17500       Manual    10460   Petrol  40.3         1.5\n",
       "4   Fiesta  2019  16500    Automatic     1482   Petrol  48.7         1.0\n",
       "5   Fiesta  2015  10500       Manual    35432   Petrol  47.9         1.6\n",
       "6     Puma  2019  22500       Manual     2029   Petrol  50.4         1.0\n",
       "7   Fiesta  2017   9000       Manual    13054   Petrol  54.3         1.2\n",
       "8     Kuga  2019  25500    Automatic     6894   Diesel  42.2         2.0\n",
       "9    Focus  2018  10000       Manual    48141   Petrol  61.4         1.0"
      ]
     },
     "metadata": {},
     "output_type": "display_data"
    },
    {
     "name": "stdout",
     "output_type": "stream",
     "text": [
      "(17964, 8)\n"
     ]
    }
   ],
   "source": [
    "# read the ford.csv file \n",
    "df = pd.read_csv('ford.csv')\n",
    "\n",
    "display(df.head(10))\n",
    "print(df.shape)"
   ]
  },
  {
   "cell_type": "markdown",
   "metadata": {},
   "source": [
    "### Separating the numeric features and target variable"
   ]
  },
  {
   "cell_type": "code",
   "execution_count": 94,
   "metadata": {},
   "outputs": [
    {
     "name": "stdout",
     "output_type": "stream",
     "text": [
      "<class 'pandas.core.frame.DataFrame'>\n",
      "RangeIndex: 17964 entries, 0 to 17963\n",
      "Data columns (total 8 columns):\n",
      "model           17964 non-null object\n",
      "year            17964 non-null int64\n",
      "price           17964 non-null int64\n",
      "transmission    17964 non-null object\n",
      "mileage         17964 non-null int64\n",
      "fuelType        17964 non-null object\n",
      "mpg             17964 non-null float64\n",
      "engineSize      17964 non-null float64\n",
      "dtypes: float64(2), int64(3), object(3)\n",
      "memory usage: 1.1+ MB\n"
     ]
    }
   ],
   "source": [
    "df.info()"
   ]
  },
  {
   "cell_type": "code",
   "execution_count": 95,
   "metadata": {},
   "outputs": [
    {
     "name": "stdout",
     "output_type": "stream",
     "text": [
      "Index(['model', 'year', 'price', 'transmission', 'mileage', 'fuelType', 'mpg',\n",
      "       'engineSize'],\n",
      "      dtype='object')\n"
     ]
    }
   ],
   "source": [
    "print(df.columns)"
   ]
  },
  {
   "cell_type": "code",
   "execution_count": 96,
   "metadata": {},
   "outputs": [
    {
     "name": "stdout",
     "output_type": "stream",
     "text": [
      "(17964, 4) (17964, 1)\n"
     ]
    }
   ],
   "source": [
    "features = ['mileage', 'year', 'mpg', 'engineSize']\n",
    "target = ['price']\n",
    "\n",
    "X = df[features]\n",
    "y = df[target]\n",
    "\n",
    "print(X.shape, y.shape)"
   ]
  },
  {
   "cell_type": "markdown",
   "metadata": {},
   "source": [
    "### Split the original dataset into the train set (80%) and the test set (20%)"
   ]
  },
  {
   "cell_type": "code",
   "execution_count": 97,
   "metadata": {},
   "outputs": [
    {
     "name": "stdout",
     "output_type": "stream",
     "text": [
      "(14371, 4) (3593, 4) (14371, 1) (3593, 1)\n"
     ]
    }
   ],
   "source": [
    "X_train, X_test, y_train, y_test = train_test_split(X, y, test_size = 0.2, random_state = 42)\n",
    "\n",
    "print(X_train.shape, X_test.shape, y_train.shape, y_test.shape)"
   ]
  },
  {
   "cell_type": "markdown",
   "metadata": {},
   "source": [
    "### Perform Linear Regression and Predict the 'Price' from the test set"
   ]
  },
  {
   "cell_type": "code",
   "execution_count": 98,
   "metadata": {},
   "outputs": [],
   "source": [
    "model = LinearRegression()\n",
    "model = model.fit(X_train, y_train)"
   ]
  },
  {
   "cell_type": "markdown",
   "metadata": {},
   "source": [
    "### Prediction"
   ]
  },
  {
   "cell_type": "code",
   "execution_count": 99,
   "metadata": {},
   "outputs": [
    {
     "name": "stdout",
     "output_type": "stream",
     "text": [
      "[[12511.62021941]\n",
      " [11728.1369248 ]\n",
      " [12146.83147139]\n",
      " ...\n",
      " [ 7682.61502627]\n",
      " [ 5954.1544702 ]\n",
      " [16941.0886637 ]]\n"
     ]
    }
   ],
   "source": [
    "y_pred = model.predict(X_test)\n",
    "print(y_pred)"
   ]
  },
  {
   "cell_type": "code",
   "execution_count": 100,
   "metadata": {},
   "outputs": [
    {
     "name": "stdout",
     "output_type": "stream",
     "text": [
      "       price\n",
      "1087   16700\n",
      "9367    9690\n",
      "4705   10999\n",
      "10336  29350\n",
      "8509   11250\n",
      "...      ...\n",
      "14866  13487\n",
      "11183  15299\n",
      "13788   5495\n",
      "17265   5685\n",
      "16043  16495\n",
      "\n",
      "[3593 rows x 1 columns]\n"
     ]
    }
   ],
   "source": [
    "print(y_test)"
   ]
  },
  {
   "cell_type": "markdown",
   "metadata": {},
   "source": [
    "### Find the RMSE value from the actual test data and the predicted data"
   ]
  },
  {
   "cell_type": "code",
   "execution_count": 101,
   "metadata": {},
   "outputs": [
    {
     "name": "stdout",
     "output_type": "stream",
     "text": [
      "2471.56474471606\n"
     ]
    }
   ],
   "source": [
    "MSE = mean_squared_error(y_test, y_pred)\n",
    "RMSE = sqrt(MSE)\n",
    "print(RMSE)"
   ]
  }
 ],
 "metadata": {
  "kernelspec": {
   "display_name": "Python 3",
   "language": "python",
   "name": "python3"
  },
  "language_info": {
   "codemirror_mode": {
    "name": "ipython",
    "version": 3
   },
   "file_extension": ".py",
   "mimetype": "text/x-python",
   "name": "python",
   "nbconvert_exporter": "python",
   "pygments_lexer": "ipython3",
   "version": "3.6.9"
  }
 },
 "nbformat": 4,
 "nbformat_minor": 2
}
